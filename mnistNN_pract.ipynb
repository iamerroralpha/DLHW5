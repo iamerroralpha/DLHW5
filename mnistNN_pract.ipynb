{
 "cells": [
  {
   "cell_type": "code",
   "execution_count": null,
   "metadata": {},
   "outputs": [],
   "source": [
    "import numpy as np\n",
    "import matplotlib.pyplot as plt\n",
    "\n",
    "from keras.datasets import mnist\n",
    "from keras.models import Sequential\n",
    "from keras.layers.core import Dense, Dropout, Activation\n",
    "from keras.utils import np_utils\n",
    "\n",
    "nb_classes = 10\n",
    "\n",
    "# the data, shuffled and split between tran and test sets\n",
    "(Images_train, Labels_train_orig), (Images_test, Labels_test_orig) = mnist.load_data()\n",
    "print(\"Images_train original shape\", Images_train.shape)\n",
    "print(\"Labels_train original shape\", Labels_train_orig.shape)"
   ]
  },
  {
   "cell_type": "code",
   "execution_count": 3,
   "metadata": {},
   "outputs": [
    {
     "name": "stdout",
     "output_type": "stream",
     "text": [
      "Training matrix shape (60000, 784)\n",
      "Testing matrix shape (10000, 784)\n"
     ]
    }
   ],
   "source": [
    "#prepare the data. Matrix with each image in one row\n",
    "#<<<< Adaptar matriz de imágenes de train >>>>\n",
    "#<<<< Adaptar matriz de imágenes de test >>>>\n",
    "Images_train = Images_train.reshape((Images_train.shape[0], 28 * 28))\n",
    "Images_test = Images_test.reshape((Images_test.shape[0], 28 * 28))\n",
    "\n",
    "Images_train = Images_train.astype('float32')\n",
    "Images_test = Images_test.astype('float32')\n",
    "Images_train /= 255\n",
    "Images_test /= 255\n",
    "print(\"Training matrix shape\", Images_train.shape)\n",
    "print(\"Testing matrix shape\", Images_test.shape)\n",
    "\n",
    "#check input data is right\n",
    "assert Images_train.shape == (60000, 784), \"Train images. Wrong shape, try again\"\n",
    "assert Images_test.shape == (10000, 784), \"Test images. Wrong shape, try again\""
   ]
  },
  {
   "cell_type": "code",
   "execution_count": 4,
   "metadata": {},
   "outputs": [],
   "source": [
    "#categorize, for instance, class 3 categorized to 0 0 0 1 0 0 0 0 0 0\n",
    "Labels_train = np_utils.to_categorical(Labels_train_orig, nb_classes)\n",
    "Labels_test = np_utils.to_categorical(Labels_test_orig, nb_classes)\n",
    "\n",
    "\n",
    "#model\n",
    "model = Sequential()\n",
    "model.add(Dense(512, activation='relu', input_shape=(784,)))\n",
    "model.add(Dropout(0.6))\n",
    "model.add(Dense(32, activation='relu'))\n",
    "model.add(Dropout(0.6))\n",
    "model.add(Dense(10, activation='softmax'))\n",
    "\n",
    "model.compile(loss='categorical_crossentropy', optimizer='adam',\n",
    "\tmetrics=['accuracy'])"
   ]
  },
  {
   "cell_type": "code",
   "execution_count": 5,
   "metadata": {},
   "outputs": [
    {
     "name": "stdout",
     "output_type": "stream",
     "text": [
      "Train on 60000 samples, validate on 10000 samples\n",
      "Epoch 1/2\n",
      "60000/60000 [==============================] - 8s 134us/step - loss: 0.8340 - acc: 0.7253 - val_loss: 0.2230 - val_acc: 0.9372\n",
      "Epoch 2/2\n",
      "60000/60000 [==============================] - 7s 125us/step - loss: 0.4562 - acc: 0.8628 - val_loss: 0.1652 - val_acc: 0.9532\n",
      "10000/10000 [==============================] - 1s 72us/step\n",
      "[0.16521602464206517, 0.9532]\n"
     ]
    }
   ],
   "source": [
    "model.fit(Images_train, Labels_train,\n",
    "          batch_size=128, epochs=2,\n",
    "          verbose=1,\n",
    "          validation_data=(Images_test, Labels_test))\n",
    "\n",
    "score = model.evaluate(Images_test, Labels_test,\n",
    "                       verbose=1)\n",
    "print(score)"
   ]
  },
  {
   "cell_type": "code",
   "execution_count": 22,
   "metadata": {},
   "outputs": [
    {
     "name": "stdout",
     "output_type": "stream",
     "text": [
      "(9532,)\n",
      "(468,)\n"
     ]
    }
   ],
   "source": [
    "#Predict test images\n",
    "predicted_classes = model.predict_classes(Images_test)\n",
    "\n",
    "#Check correct and incorrect predictions\n",
    "correct_indices = np.nonzero(predicted_classes == Labels_test_orig)[0]\n",
    "print(correct_indices.shape)\n",
    "#<<<< Calcular los índices incorrectos >>>>\n",
    "#así podríamos ver las imágenes de los números en los que se equivoca\n",
    "wrong_indices = np.nonzero(predicted_classes != Labels_test_orig)[0]\n",
    "print(wrong_indices.shape)"
   ]
  },
  {
   "cell_type": "code",
   "execution_count": 26,
   "metadata": {},
   "outputs": [
    {
     "data": {
      "text/plain": [
       "array(10)"
      ]
     },
     "execution_count": 26,
     "metadata": {},
     "output_type": "execute_result"
    }
   ],
   "source": [
    "#<<<< Calcular la precisión para cada clase. precisión = predicciones_correctas/total >>>>\n",
    "m = np.array(np.max(Labels_test_orig)+1, np.max(Labels_test_orig)+1)\n",
    "m"
   ]
  },
  {
   "cell_type": "code",
   "execution_count": 25,
   "metadata": {},
   "outputs": [
    {
     "data": {
      "text/plain": [
       "9"
      ]
     },
     "execution_count": 25,
     "metadata": {},
     "output_type": "execute_result"
    }
   ],
   "source": [
    "np.max(Labels_test_orig)"
   ]
  }
 ],
 "metadata": {
  "kernel_info": {
   "name": "python3"
  },
  "kernelspec": {
   "display_name": "Python 3",
   "language": "python",
   "name": "python3"
  },
  "language_info": {
   "codemirror_mode": {
    "name": "ipython",
    "version": 3
   },
   "file_extension": ".py",
   "mimetype": "text/x-python",
   "name": "python",
   "nbconvert_exporter": "python",
   "pygments_lexer": "ipython3",
   "version": "3.6.9"
  },
  "nteract": {
   "version": "0.12.3"
  }
 },
 "nbformat": 4,
 "nbformat_minor": 2
}
