{
 "cells": [
  {
   "cell_type": "code",
   "execution_count": 0,
   "metadata": {
    "colab": {
     "base_uri": "https://localhost:8080/",
     "height": 51
    },
    "colab_type": "code",
    "id": "K6Tb0zQ3JnXQ",
    "outputId": "78026958-6aad-452a-98e1-2ebab21160fb"
   },
   "outputs": [
    {
     "name": "stdout",
     "output_type": "stream",
     "text": [
      "Images_train original shape (60000, 28, 28)\n",
      "Labels_train original shape (60000,)\n"
     ]
    }
   ],
   "source": [
    "import numpy as np\n",
    "import matplotlib.pyplot as plt\n",
    "import os\n",
    "os.environ['TF_CPP_MIN_LOG_LEVEL'] = '3' \n",
    "from keras.datasets import mnist\n",
    "from keras.models import Sequential\n",
    "from keras.layers.core import Dense, Dropout, Activation\n",
    "from keras.utils import np_utils\n",
    "\n",
    "nb_classes = 10\n",
    "\n",
    "# the data, shuffled and split between tran and test sets\n",
    "(Images_train, Labels_train_orig), (Images_test, Labels_test_orig) = mnist.load_data()\n",
    "print(\"Images_train original shape\", Images_train.shape)\n",
    "print(\"Labels_train original shape\", Labels_train_orig.shape)"
   ]
  },
  {
   "cell_type": "code",
   "execution_count": 0,
   "metadata": {
    "colab": {
     "base_uri": "https://localhost:8080/",
     "height": 51
    },
    "colab_type": "code",
    "id": "GPIZLCNHJnXV",
    "outputId": "25c732f1-1dec-498b-b2fa-2de7737783e9"
   },
   "outputs": [
    {
     "name": "stdout",
     "output_type": "stream",
     "text": [
      "Training matrix shape (60000, 784)\n",
      "Testing matrix shape (10000, 784)\n"
     ]
    }
   ],
   "source": [
    "#prepare the data. Matrix with each image in one row\n",
    "#<<<< Adaptar matriz de imágenes de train >>>>\n",
    "#<<<< Adaptar matriz de imágenes de test >>>>\n",
    "Images_train = Images_train.reshape((Images_train.shape[0], 28 * 28))\n",
    "Images_test = Images_test.reshape((Images_test.shape[0], 28 * 28))\n",
    "\n",
    "Images_train = Images_train.astype('float32')\n",
    "Images_test = Images_test.astype('float32')\n",
    "Images_train /= 255\n",
    "Images_test /= 255\n",
    "print(\"Training matrix shape\", Images_train.shape)\n",
    "print(\"Testing matrix shape\", Images_test.shape)\n",
    "\n",
    "#check input data is right\n",
    "assert Images_train.shape == (60000, 784), \"Train images. Wrong shape, try again\"\n",
    "assert Images_test.shape == (10000, 784), \"Test images. Wrong shape, try again\""
   ]
  },
  {
   "cell_type": "code",
   "execution_count": 0,
   "metadata": {
    "colab": {},
    "colab_type": "code",
    "id": "jESWMaZaJnXZ"
   },
   "outputs": [],
   "source": [
    "#categorize, for instance, class 3 categorized to 0 0 0 1 0 0 0 0 0 0\n",
    "Labels_train = np_utils.to_categorical(Labels_train_orig, nb_classes)\n",
    "Labels_test = np_utils.to_categorical(Labels_test_orig, nb_classes)\n",
    "\n",
    "\n",
    "#model\n",
    "model = Sequential()\n",
    "model.add(Dense(512, activation='relu', input_shape=(784,)))\n",
    "model.add(Dropout(0.6))\n",
    "model.add(Dense(32, activation='relu'))\n",
    "model.add(Dropout(0.6))\n",
    "model.add(Dense(10, activation='softmax'))\n",
    "\n",
    "model.compile(loss='categorical_crossentropy', optimizer='adam',\n",
    "\tmetrics=['accuracy'])"
   ]
  },
  {
   "cell_type": "code",
   "execution_count": 0,
   "metadata": {
    "colab": {
     "base_uri": "https://localhost:8080/",
     "height": 136
    },
    "colab_type": "code",
    "id": "UDzeqbmwJnXb",
    "outputId": "b8339e13-dd6d-4559-9b74-8e7c69b13fdf"
   },
   "outputs": [
    {
     "name": "stdout",
     "output_type": "stream",
     "text": [
      "Train on 60000 samples, validate on 10000 samples\n",
      "Epoch 1/2\n",
      "60000/60000 [==============================] - 6s 101us/step - loss: 0.8378 - acc: 0.7217 - val_loss: 0.2265 - val_acc: 0.9348\n",
      "Epoch 2/2\n",
      "60000/60000 [==============================] - 6s 98us/step - loss: 0.4628 - acc: 0.8582 - val_loss: 0.1601 - val_acc: 0.9542\n",
      "10000/10000 [==============================] - 0s 49us/step\n",
      "[0.1601157738186419, 0.9542]\n"
     ]
    }
   ],
   "source": [
    "model.fit(Images_train, Labels_train,\n",
    "          batch_size=128, epochs=2,\n",
    "          verbose=1,\n",
    "          validation_data=(Images_test, Labels_test))\n",
    "\n",
    "score = model.evaluate(Images_test, Labels_test,\n",
    "                       verbose=1)\n",
    "print(score)"
   ]
  },
  {
   "cell_type": "code",
   "execution_count": 0,
   "metadata": {
    "colab": {
     "base_uri": "https://localhost:8080/",
     "height": 51
    },
    "colab_type": "code",
    "id": "gfDDVom3JnXf",
    "outputId": "9f1ba620-6f74-4181-bf8c-80f64e1e60f4"
   },
   "outputs": [
    {
     "name": "stdout",
     "output_type": "stream",
     "text": [
      "(9542,)\n",
      "(458,)\n"
     ]
    }
   ],
   "source": [
    "#Predict test images\n",
    "predicted_classes = model.predict_classes(Images_test)\n",
    "\n",
    "#Check correct and incorrect predictions\n",
    "correct_indices = np.nonzero(predicted_classes == Labels_test_orig)[0]\n",
    "print(correct_indices.shape)\n",
    "#<<<< Calcular los índices incorrectos >>>>\n",
    "#así podríamos ver las imágenes de los números en los que se equivoca\n",
    "wrong_indices = np.nonzero(predicted_classes != Labels_test_orig)[0]\n",
    "print(wrong_indices.shape)"
   ]
  },
  {
   "cell_type": "code",
   "execution_count": 0,
   "metadata": {
    "colab": {
     "base_uri": "https://localhost:8080/",
     "height": 34
    },
    "colab_type": "code",
    "id": "gnUMUWe4JnXj",
    "outputId": "0e8720c1-ca73-4514-dfce-d9adc25e28b7"
   },
   "outputs": [
    {
     "data": {
      "text/plain": [
       "array(10)"
      ]
     },
     "execution_count": 14,
     "metadata": {
      "tags": []
     },
     "output_type": "execute_result"
    }
   ],
   "source": [
    "#<<<< Calcular la precisión para cada clase. precisión = predicciones_correctas/total >>>>\n",
    "m = np.array(np.max(Labels_test_orig)+1, np.max(Labels_test_orig)+1)\n",
    "m"
   ]
  },
  {
   "cell_type": "code",
   "execution_count": 0,
   "metadata": {
    "colab": {
     "base_uri": "https://localhost:8080/",
     "height": 34
    },
    "colab_type": "code",
    "id": "yzXpzYUXJnXn",
    "outputId": "e0751a5c-2c18-4dd7-efde-948e665b67a3"
   },
   "outputs": [
    {
     "data": {
      "text/plain": [
       "9"
      ]
     },
     "execution_count": 15,
     "metadata": {
      "tags": []
     },
     "output_type": "execute_result"
    }
   ],
   "source": [
    "np.max(Labels_test_orig)"
   ]
  },
  {
   "cell_type": "code",
   "execution_count": 0,
   "metadata": {
    "colab": {
     "base_uri": "https://localhost:8080/",
     "height": 367
    },
    "colab_type": "code",
    "id": "_JlLsk5jJ1F-",
    "outputId": "1032abf9-bd25-4f6c-dd54-6d2d257b2804"
   },
   "outputs": [
    {
     "name": "stdout",
     "output_type": "stream",
     "text": [
      "Images_train original shape (60000, 28, 28)\n",
      "Labels_train original shape (60000,)\n",
      "x_train shape: (60000, 28, 28, 1)\n",
      "60000 train samples\n",
      "10000 test samples\n",
      "(28, 28, 1)\n"
     ]
    },
    {
     "data": {
      "image/png": "[encoded data removed]",
      "text/plain": [
       "<Figure size 432x288 with 1 Axes>"
      ]
     },
     "metadata": {
      "tags": []
     },
     "output_type": "display_data"
    }
   ],
   "source": [
    "(Images_train, Labels_train_orig), (Images_test, Labels_test_orig) = mnist.load_data()\n",
    "print(\"Images_train original shape\", Images_train.shape)\n",
    "print(\"Labels_train original shape\", Labels_train_orig.shape)\n",
    "from keras import backend as K\n",
    "\n",
    "img_rows, img_cols = 28, 28\n",
    "\n",
    "if K.image_data_format() == 'channels_first':\n",
    "    Images_train = Images_train.reshape(Images_train.shape[0], 1, img_rows, img_cols)\n",
    "    Images_test = Images_test.reshape(Images_test.shape[0], 1, img_rows, img_cols)\n",
    "    input_shape = (1, img_rows, img_cols)\n",
    "else:\n",
    "    Images_train = Images_train.reshape(Images_train.shape[0], img_rows, img_cols, 1)\n",
    "    Images_test = Images_test.reshape(Images_test.shape[0], img_rows, img_cols, 1)\n",
    "    input_shape = (img_rows, img_cols, 1)\n",
    "\n",
    "Images_train = Images_train.astype('float32')\n",
    "Images_test = Images_test.astype('float32')\n",
    "Images_train /= 255\n",
    "Images_test /= 255\n",
    "print('x_train shape:', Images_train.shape)\n",
    "print(Images_train.shape[0], 'train samples')\n",
    "print(Images_test.shape[0], 'test samples')\n",
    "\n",
    "first_image = Images_test[4]\n",
    "print(first_image.shape)\n",
    "first_image = np.array(first_image, dtype='float')\n",
    "pixels = first_image.reshape((28, 28))\n",
    "plt.imshow(pixels, cmap='gray')\n",
    "plt.show()"
   ]
  },
  {
   "cell_type": "code",
   "execution_count": 0,
   "metadata": {
    "colab": {
     "base_uri": "https://localhost:8080/",
     "height": 493
    },
    "colab_type": "code",
    "id": "4-h-y0xPMpcj",
    "outputId": "cc1e3848-5e96-4134-b657-6a82d5f771f5"
   },
   "outputs": [
    {
     "name": "stdout",
     "output_type": "stream",
     "text": [
      "Model: \"sequential_37\"\n",
      "_________________________________________________________________\n",
      "Layer (type)                 Output Shape              Param #   \n",
      "=================================================================\n",
      "conv2d_54 (Conv2D)           (None, 24, 24, 32)        832       \n",
      "_________________________________________________________________\n",
      "max_pooling2d_49 (MaxPooling (None, 12, 12, 32)        0         \n",
      "_________________________________________________________________\n",
      "conv2d_55 (Conv2D)           (None, 8, 8, 64)          51264     \n",
      "_________________________________________________________________\n",
      "max_pooling2d_50 (MaxPooling (None, 4, 4, 64)          0         \n",
      "_________________________________________________________________\n",
      "flatten_12 (Flatten)         (None, 1024)              0         \n",
      "_________________________________________________________________\n",
      "dense_42 (Dense)             (None, 256)               262400    \n",
      "_________________________________________________________________\n",
      "dropout_29 (Dropout)         (None, 256)               0         \n",
      "_________________________________________________________________\n",
      "dense_43 (Dense)             (None, 120)               30840     \n",
      "_________________________________________________________________\n",
      "dropout_30 (Dropout)         (None, 120)               0         \n",
      "_________________________________________________________________\n",
      "dense_44 (Dense)             (None, 10)                1210      \n",
      "=================================================================\n",
      "Total params: 346,546\n",
      "Trainable params: 346,546\n",
      "Non-trainable params: 0\n",
      "_________________________________________________________________\n"
     ]
    }
   ],
   "source": [
    "#LeNet 5\n",
    "#1st layer: 32,32,3 input\n",
    "#2nd layer: 28,28,6 conv 1\n",
    "#3rd layer: 14,14,6 pool 1\n",
    "#4rth layer: 10,10,16 conv2\n",
    "#5th layer : 5,5,16 pool 2 -> flatten\n",
    "#6th layer and beyond: use a standard deep network\n",
    "\n",
    "\n",
    "from keras import models, layers\n",
    "model = models.Sequential()\n",
    "model.add(layers.Conv2D(32, kernel_size=(5, 5), strides=(1, 1), activation='relu', input_shape=(28, 28,1)))\n",
    "model.add(layers.MaxPooling2D(pool_size=(2, 2), strides=(2,2)))\n",
    "model.add(layers.Conv2D(64, kernel_size=(5, 5), strides=(1, 1), activation='relu', input_shape=(12, 12, 2)))\n",
    "model.add(layers.MaxPooling2D(pool_size=(2, 2), strides=(2,2)))\n",
    "model.add(layers.Flatten())\n",
    "model.add(layers.Dense(256, activation='relu'))\n",
    "model.add(Dropout(0.6))\n",
    "model.add(Dense(120, activation='relu'))\n",
    "model.add(Dropout(0.6))\n",
    "model.add(Dense(10, activation='softmax'))\n",
    "model.summary()"
   ]
  },
  {
   "cell_type": "code",
   "execution_count": 0,
   "metadata": {
    "colab": {},
    "colab_type": "code",
    "id": "Ul4y-wdYONc7"
   },
   "outputs": [],
   "source": [
    "model.compile(loss='categorical_crossentropy', optimizer='adam', metrics=['accuracy'])"
   ]
  },
  {
   "cell_type": "code",
   "execution_count": 0,
   "metadata": {
    "colab": {
     "base_uri": "https://localhost:8080/",
     "height": 170
    },
    "colab_type": "code",
    "id": "Tci474dnR6W7",
    "outputId": "71e82852-87ed-414b-922a-26a7626f765a"
   },
   "outputs": [
    {
     "name": "stdout",
     "output_type": "stream",
     "text": [
      "Train on 60000 samples, validate on 10000 samples\n",
      "Epoch 1/3\n",
      "60000/60000 [==============================] - 59s 976us/step - loss: 0.0605 - acc: 0.9843 - val_loss: 0.0322 - val_acc: 0.9909\n",
      "Epoch 2/3\n",
      "60000/60000 [==============================] - 59s 981us/step - loss: 0.0527 - acc: 0.9869 - val_loss: 0.0317 - val_acc: 0.9912\n",
      "Epoch 3/3\n",
      "60000/60000 [==============================] - 59s 983us/step - loss: 0.0450 - acc: 0.9878 - val_loss: 0.0292 - val_acc: 0.9911\n",
      "10000/10000 [==============================] - 3s 313us/step\n",
      "[0.029186859695821295, 0.9911]\n"
     ]
    }
   ],
   "source": [
    "model.fit(Images_train, Labels_train,\n",
    "          batch_size=128, epochs=3,\n",
    "          verbose=1,\n",
    "          validation_data=(Images_test, Labels_test), shuffle = True)\n",
    "\n",
    "score = model.evaluate(Images_test, Labels_test,\n",
    "                       verbose=1)\n",
    "print(score)"
   ]
  },
  {
   "cell_type": "code",
   "execution_count": 0,
   "metadata": {
    "colab": {
     "base_uri": "https://localhost:8080/",
     "height": 51
    },
    "colab_type": "code",
    "id": "PKy4NmohUm0o",
    "outputId": "d1e88a80-b9c2-4fd2-d8d7-a7928469ddc5"
   },
   "outputs": [
    {
     "name": "stdout",
     "output_type": "stream",
     "text": [
      "(9911,)\n",
      "(89,)\n"
     ]
    }
   ],
   "source": [
    "#Predict test images\n",
    "predicted_classes = model.predict_classes(Images_test)\n",
    "\n",
    "#Check correct and incorrect predictions\n",
    "correct_indices = np.nonzero(predicted_classes == Labels_test_orig)[0]\n",
    "print(correct_indices.shape)\n",
    "#<<<< Calcular los índices incorrectos >>>>\n",
    "#así podríamos ver las imágenes de los números en los que se equivoca\n",
    "wrong_indices = np.nonzero(predicted_classes != Labels_test_orig)[0]\n",
    "print(wrong_indices.shape)"
   ]
  },
  {
   "cell_type": "code",
   "execution_count": 0,
   "metadata": {
    "colab": {},
    "colab_type": "code",
    "id": "QL9ZcHVxbPaa"
   },
   "outputs": [],
   "source": []
  }
 ],
 "metadata": {
  "colab": {
   "collapsed_sections": [],
   "name": "Copia de mnistNN_pract.ipynb",
   "provenance": []
  },
  "kernel_info": {
   "name": "python3"
  },
  "kernelspec": {
   "display_name": "Python 3",
   "language": "python",
   "name": "python3"
  },
  "language_info": {
   "codemirror_mode": {
    "name": "ipython",
    "version": 3
   },
   "file_extension": ".py",
   "mimetype": "text/x-python",
   "name": "python",
   "nbconvert_exporter": "python",
   "pygments_lexer": "ipython3",
   "version": "3.6.9"
  },
  "nteract": {
   "version": "0.12.3"
  }
 },
 "nbformat": 4,
 "nbformat_minor": 1
}
